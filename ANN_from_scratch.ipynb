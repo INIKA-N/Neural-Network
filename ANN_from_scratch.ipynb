{
  "nbformat": 4,
  "nbformat_minor": 0,
  "metadata": {
    "colab": {
      "provenance": [],
      "authorship_tag": "ABX9TyNBU4+1uq8Y1mgYtWuamXRE",
      "include_colab_link": true
    },
    "kernelspec": {
      "name": "python3",
      "display_name": "Python 3"
    },
    "language_info": {
      "name": "python"
    }
  },
  "cells": [
    {
      "cell_type": "markdown",
      "metadata": {
        "id": "view-in-github",
        "colab_type": "text"
      },
      "source": [
        "<a href=\"https://colab.research.google.com/github/INIKA-N/Neural-Network/blob/main/ANN_from_scratch.ipynb\" target=\"_parent\"><img src=\"https://colab.research.google.com/assets/colab-badge.svg\" alt=\"Open In Colab\"/></a>"
      ]
    },
    {
      "cell_type": "code",
      "execution_count": 1,
      "metadata": {
        "id": "ywWe3_5VSRsJ"
      },
      "outputs": [],
      "source": [
        "import numpy as np\n"
      ]
    },
    {
      "cell_type": "code",
      "source": [
        "x=np.array([[1,0,1,0],[1,0,1,1],[0,1,0,1]])\n",
        "x"
      ],
      "metadata": {
        "colab": {
          "base_uri": "https://localhost:8080/"
        },
        "id": "AhjCXmAuS0ZL",
        "outputId": "74a51558-e76d-4e57-ade8-a3e48c6fb09f"
      },
      "execution_count": 2,
      "outputs": [
        {
          "output_type": "execute_result",
          "data": {
            "text/plain": [
              "array([[1, 0, 1, 0],\n",
              "       [1, 0, 1, 1],\n",
              "       [0, 1, 0, 1]])"
            ]
          },
          "metadata": {},
          "execution_count": 2
        }
      ]
    },
    {
      "cell_type": "code",
      "source": [
        "y=np.array([[1],[0],[1]])\n",
        "y"
      ],
      "metadata": {
        "colab": {
          "base_uri": "https://localhost:8080/"
        },
        "id": "sqFelCgmTLcw",
        "outputId": "4723b930-72c0-47ef-b7f9-c7b5cd2bb5d2"
      },
      "execution_count": 3,
      "outputs": [
        {
          "output_type": "execute_result",
          "data": {
            "text/plain": [
              "array([[1],\n",
              "       [0],\n",
              "       [1]])"
            ]
          },
          "metadata": {},
          "execution_count": 3
        }
      ]
    },
    {
      "cell_type": "code",
      "source": [
        "def sigmoid(x):\n",
        "    return 1/(1+np.exp(-x))"
      ],
      "metadata": {
        "id": "X-AmYUbmTkGr"
      },
      "execution_count": 5,
      "outputs": []
    },
    {
      "cell_type": "markdown",
      "source": [
        "# create a derivative function"
      ],
      "metadata": {
        "id": "Y4fmDfdwUPHm"
      }
    },
    {
      "cell_type": "code",
      "source": [
        "def derivative_sigmoid(x):\n",
        "    return x*(1-x)"
      ],
      "metadata": {
        "id": "iHzRXjhNT13m"
      },
      "execution_count": 6,
      "outputs": []
    },
    {
      "cell_type": "markdown",
      "source": [
        "# Initialize the variable"
      ],
      "metadata": {
        "id": "q74G2RrvUUjb"
      }
    },
    {
      "cell_type": "code",
      "source": [
        "epoch = 5000\n",
        "lr=0.1\n",
        "input_neurons=x.shape[1]\n",
        "hidden_neurons=3\n",
        "output_neurons=1"
      ],
      "metadata": {
        "id": "twa5ZciuUeVD"
      },
      "execution_count": 7,
      "outputs": []
    },
    {
      "cell_type": "markdown",
      "source": [
        "# Initialize weight and Bias"
      ],
      "metadata": {
        "id": "uqbiW7w5VdSa"
      }
    },
    {
      "cell_type": "code",
      "source": [
        "wh=np.random.uniform(size=(input_neurons,hidden_neurons))\n",
        "bh=np.random.uniform(size=(1,hidden_neurons))\n",
        "wo=np.random.uniform(size=(hidden_neurons,output_neurons))\n",
        "bo=np.random.uniform(size=(1,output_neurons))\n"
      ],
      "metadata": {
        "id": "un32LJPIUrb-"
      },
      "execution_count": 8,
      "outputs": []
    },
    {
      "cell_type": "markdown",
      "source": [
        "# Training the model"
      ],
      "metadata": {
        "id": "ZtXie2XlVjSN"
      }
    },
    {
      "cell_type": "code",
      "source": [
        "for i in range(epoch):\n",
        "    # Forward Propagation\n",
        "    # Hidden Layer\n",
        "    hidden_layer_input = np.dot(x, wh) + bh\n",
        "    hidden_layer_activation = sigmoid(hidden_layer_input)\n",
        "\n",
        "    # Output Layer\n",
        "    output_layer_input = np.dot(hidden_layer_activation, wo) + bo\n",
        "    predicted_output = sigmoid(output_layer_input)\n",
        "\n",
        "    # Backward Propagation\n",
        "    # Calculate Error\n",
        "    error = y - predicted_output\n",
        "\n",
        "    # Calculate gradients at output layer\n",
        "    slope_output_layer = derivative_sigmoid(predicted_output)\n",
        "    delta_output = error * slope_output_layer\n",
        "\n",
        "    # Calculate gradients at hidden layer\n",
        "    error_hidden_layer = delta_output.dot(wo.T)\n",
        "    slope_hidden_layer = derivative_sigmoid(hidden_layer_activation)\n",
        "    delta_hidden = error_hidden_layer * slope_hidden_layer\n",
        "\n",
        "    # Update Weights and Biases\n",
        "    wo += hidden_layer_activation.T.dot(delta_output) * lr\n",
        "    bo += np.sum(delta_output, axis=0, keepdims=True) * lr\n",
        "    wh += x.T.dot(delta_hidden) * lr\n",
        "    bh += np.sum(delta_hidden, axis=0, keepdims=True) * lr\n",
        "\n",
        ""
      ],
      "metadata": {
        "id": "jvrgp5yZVp3T"
      },
      "execution_count": 9,
      "outputs": []
    },
    {
      "cell_type": "code",
      "source": [
        "print(\"output after training\")\n",
        "print(predicted_output)"
      ],
      "metadata": {
        "colab": {
          "base_uri": "https://localhost:8080/"
        },
        "id": "Wi8EiZIMXdO1",
        "outputId": "adb6bb5d-b749-48ab-95cc-6c51af4f8318"
      },
      "execution_count": 10,
      "outputs": [
        {
          "output_type": "stream",
          "name": "stdout",
          "text": [
            "output after training\n",
            "[[0.95789962]\n",
            " [0.06168937]\n",
            " [0.95920525]]\n"
          ]
        }
      ]
    }
  ]
}
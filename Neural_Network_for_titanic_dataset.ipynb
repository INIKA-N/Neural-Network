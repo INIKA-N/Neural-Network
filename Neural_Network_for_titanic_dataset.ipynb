{
  "nbformat": 4,
  "nbformat_minor": 0,
  "metadata": {
    "colab": {
      "provenance": [],
      "authorship_tag": "ABX9TyOu4vH8IQP3Z6k8/JoAP8fY",
      "include_colab_link": true
    },
    "kernelspec": {
      "name": "python3",
      "display_name": "Python 3"
    },
    "language_info": {
      "name": "python"
    }
  },
  "cells": [
    {
      "cell_type": "markdown",
      "metadata": {
        "id": "view-in-github",
        "colab_type": "text"
      },
      "source": [
        "<a href=\"https://colab.research.google.com/github/INIKA-N/Neural-Network/blob/main/Neural_Network_for_titanic_dataset.ipynb\" target=\"_parent\"><img src=\"https://colab.research.google.com/assets/colab-badge.svg\" alt=\"Open In Colab\"/></a>"
      ]
    },
    {
      "cell_type": "markdown",
      "source": [
        "1. define the model\n",
        "2. compile the model\n",
        "3. fit the model\n",
        "4. evaluvate the model\n",
        "5. predict the model"
      ],
      "metadata": {
        "id": "HG5iP9bMGNX-"
      }
    },
    {
      "cell_type": "markdown",
      "source": [
        "## Import Libraries:"
      ],
      "metadata": {
        "id": "BbviUiGSKjrv"
      }
    },
    {
      "cell_type": "code",
      "source": [
        "import numpy as np\n",
        "import pandas as pd\n",
        "import tensorflow as tf\n",
        "from sklearn.model_selection import train_test_split\n",
        "from sklearn.preprocessing import StandardScaler\n"
      ],
      "metadata": {
        "id": "oCK6OqtHGjM8"
      },
      "execution_count": 1,
      "outputs": []
    },
    {
      "cell_type": "markdown",
      "source": [
        "## Load and Preprocess Data:"
      ],
      "metadata": {
        "id": "9ew_K08_Kp_C"
      }
    },
    {
      "cell_type": "code",
      "source": [
        "# Load data\n",
        "url = \"https://web.stanford.edu/class/archive/cs/cs109/cs109.1166/stuff/titanic.csv\"\n",
        "df = pd.read_csv(url)\n",
        "\n",
        "# Select features and target variable\n",
        "X = df[['Pclass', 'Sex', 'Age', 'Fare']]\n",
        "y = df['Survived']\n",
        "\n",
        "# Convert categorical variables to numerical\n",
        "X['Sex'] = X['Sex'].map({'male': 0, 'female': 1})\n",
        "\n",
        "# Handle missing values\n",
        "X['Age'].fillna(X['Age'].mean(), inplace=True)\n",
        "\n",
        "# Split the data into training and testing sets\n",
        "X_train, X_test, y_train, y_test = train_test_split(X, y, test_size=0.2, random_state=42)\n",
        "\n",
        "# Standardize the features\n",
        "scaler = StandardScaler()\n",
        "X_train = scaler.fit_transform(X_train)\n",
        "X_test = scaler.transform(X_test)\n"
      ],
      "metadata": {
        "colab": {
          "base_uri": "https://localhost:8080/"
        },
        "id": "2KHv7ONMHqiE",
        "outputId": "650a62c6-417c-4500-a373-2d132fe37229"
      },
      "execution_count": 2,
      "outputs": [
        {
          "output_type": "stream",
          "name": "stderr",
          "text": [
            "<ipython-input-2-ba6ab5411cbf>:10: SettingWithCopyWarning: \n",
            "A value is trying to be set on a copy of a slice from a DataFrame.\n",
            "Try using .loc[row_indexer,col_indexer] = value instead\n",
            "\n",
            "See the caveats in the documentation: https://pandas.pydata.org/pandas-docs/stable/user_guide/indexing.html#returning-a-view-versus-a-copy\n",
            "  X['Sex'] = X['Sex'].map({'male': 0, 'female': 1})\n",
            "<ipython-input-2-ba6ab5411cbf>:13: SettingWithCopyWarning: \n",
            "A value is trying to be set on a copy of a slice from a DataFrame\n",
            "\n",
            "See the caveats in the documentation: https://pandas.pydata.org/pandas-docs/stable/user_guide/indexing.html#returning-a-view-versus-a-copy\n",
            "  X['Age'].fillna(X['Age'].mean(), inplace=True)\n"
          ]
        }
      ]
    },
    {
      "cell_type": "markdown",
      "source": [
        "## Build Neural Network Model:"
      ],
      "metadata": {
        "id": "s2uGDlJnKxWy"
      }
    },
    {
      "cell_type": "code",
      "source": [
        "model = tf.keras.Sequential([\n",
        "    tf.keras.layers.Dense(64, activation='relu', input_shape=(X_train.shape[1],)),\n",
        "    tf.keras.layers.Dense(1, activation='sigmoid')\n",
        "])\n",
        "\n",
        "model.compile(optimizer='adam', loss='binary_crossentropy', metrics=['accuracy'])\n"
      ],
      "metadata": {
        "id": "dqCZd6_6IPnL"
      },
      "execution_count": 3,
      "outputs": []
    },
    {
      "cell_type": "markdown",
      "source": [
        "## Train the Model:"
      ],
      "metadata": {
        "id": "4bZBw7RiK6b2"
      }
    },
    {
      "cell_type": "code",
      "source": [
        "model.fit(X_train, y_train, epochs=10, batch_size=32, validation_split=0.2)\n"
      ],
      "metadata": {
        "colab": {
          "base_uri": "https://localhost:8080/"
        },
        "id": "Mc87SE3BIfeR",
        "outputId": "feb8ac01-152b-4b5d-9073-e6dedd70c569"
      },
      "execution_count": 4,
      "outputs": [
        {
          "output_type": "stream",
          "name": "stdout",
          "text": [
            "Epoch 1/10\n",
            "18/18 [==============================] - 4s 77ms/step - loss: 0.6087 - accuracy: 0.7619 - val_loss: 0.5757 - val_accuracy: 0.8028\n",
            "Epoch 2/10\n",
            "18/18 [==============================] - 0s 11ms/step - loss: 0.5450 - accuracy: 0.7778 - val_loss: 0.5297 - val_accuracy: 0.7817\n",
            "Epoch 3/10\n",
            "18/18 [==============================] - 0s 24ms/step - loss: 0.5033 - accuracy: 0.7831 - val_loss: 0.5016 - val_accuracy: 0.7465\n",
            "Epoch 4/10\n",
            "18/18 [==============================] - 0s 20ms/step - loss: 0.4762 - accuracy: 0.7901 - val_loss: 0.4834 - val_accuracy: 0.7254\n",
            "Epoch 5/10\n",
            "18/18 [==============================] - 0s 9ms/step - loss: 0.4583 - accuracy: 0.7901 - val_loss: 0.4700 - val_accuracy: 0.7676\n",
            "Epoch 6/10\n",
            "18/18 [==============================] - 0s 9ms/step - loss: 0.4476 - accuracy: 0.7884 - val_loss: 0.4630 - val_accuracy: 0.7817\n",
            "Epoch 7/10\n",
            "18/18 [==============================] - 0s 14ms/step - loss: 0.4408 - accuracy: 0.7919 - val_loss: 0.4570 - val_accuracy: 0.7817\n",
            "Epoch 8/10\n",
            "18/18 [==============================] - 0s 21ms/step - loss: 0.4360 - accuracy: 0.7919 - val_loss: 0.4530 - val_accuracy: 0.7817\n",
            "Epoch 9/10\n",
            "18/18 [==============================] - 0s 12ms/step - loss: 0.4330 - accuracy: 0.7919 - val_loss: 0.4511 - val_accuracy: 0.7817\n",
            "Epoch 10/10\n",
            "18/18 [==============================] - 0s 22ms/step - loss: 0.4303 - accuracy: 0.7919 - val_loss: 0.4480 - val_accuracy: 0.7817\n"
          ]
        },
        {
          "output_type": "execute_result",
          "data": {
            "text/plain": [
              "<keras.src.callbacks.History at 0x783829957b50>"
            ]
          },
          "metadata": {},
          "execution_count": 4
        }
      ]
    },
    {
      "cell_type": "markdown",
      "source": [
        "## Evaluate the Model:"
      ],
      "metadata": {
        "id": "epDR2FtwK-wX"
      }
    },
    {
      "cell_type": "code",
      "source": [
        "loss, accuracy = model.evaluate(X_test, y_test)\n",
        "print(f\"Test Loss: {loss:.4f}, Test Accuracy: {accuracy:.4f}\")\n"
      ],
      "metadata": {
        "colab": {
          "base_uri": "https://localhost:8080/"
        },
        "id": "BI-mBT3zISVe",
        "outputId": "6a6564e6-8c11-44e8-b831-a06b5cbc9881"
      },
      "execution_count": 5,
      "outputs": [
        {
          "output_type": "stream",
          "name": "stdout",
          "text": [
            "6/6 [==============================] - 0s 15ms/step - loss: 0.5014 - accuracy: 0.7472\n",
            "Test Loss: 0.5014, Test Accuracy: 0.7472\n"
          ]
        }
      ]
    }
  ]
}